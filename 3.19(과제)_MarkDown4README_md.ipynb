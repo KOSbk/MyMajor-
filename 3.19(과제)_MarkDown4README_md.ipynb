{
  "nbformat": 4,
  "nbformat_minor": 0,
  "metadata": {
    "colab": {
      "provenance": [],
      "include_colab_link": true
    },
    "kernelspec": {
      "name": "python3",
      "display_name": "Python 3"
    },
    "language_info": {
      "name": "python"
    }
  },
  "cells": [
    {
      "cell_type": "markdown",
      "metadata": {
        "id": "view-in-github",
        "colab_type": "text"
      },
      "source": [
        "<a href=\"https://colab.research.google.com/github/KOSbk/MyMajor-/blob/main/3.19(%EA%B3%BC%EC%A0%9C)_MarkDown4README_md.ipynb\" target=\"_parent\"><img src=\"https://colab.research.google.com/assets/colab-badge.svg\" alt=\"Open In Colab\"/></a>"
      ]
    },
    {
      "cell_type": "markdown",
      "source": [
        "# 📑 **각자의 <font color = 'orange'>전공</font> 소개하기!**\n",
        "\n",
        "* ## 한남대학교 <strong> 대학 홈페이지 👉 ([구경하기](https://www.hannam.ac.kr/kor/main/index.html))\n",
        "* ## 한남대학교 <strong>건축학과 홈페이지 👉 ([구경하기](https://archi.hannam.ac.kr/))\n"
      ],
      "metadata": {
        "id": "nFyrb7heQOTL"
      }
    },
    {
      "cell_type": "markdown",
      "source": [
        "# 📐**건축학과란?**\n",
        "\n",
        " ## <strong> 👉 건축학과는 건축에 관한 <font color = 'orange'>이론</font>과 <font color = 'orange'>실무</font>를 학습하는 학과이다. 건축물의 <font color = 'orange'>설계</font>, <font color = 'orange'>구조</font>, <font color = 'orange'>기술</font>, <font color = 'orange'>역사</font>, <font color = 'orange'>이론</font>, <font color = 'orange'>환경</font> 등 다양한 측면을 공부하고 이론적인 내용 뿐만 아니라 <font color = 'orange'>실제 건축 현장</font>에서의 경험과 실무 능력을 함양하는 데 중점을 둔다.\n",
        "\n",
        "\n",
        "# 📝**주요 과목**\n",
        "\n",
        "* ### <strong>건축 설계: 건축물을 <font color = 'orange'>디자인</font>하고 <font color = 'orange'>계획</font>하는 과정을 학습한다.건축물의 <font color = 'orange'>기능성</font>, <font color = 'orange'>안전성</font>, <font color = 'orange'>미학적</font> 측면 등을 고려하여 다양한 디자인을 탐구한다.\n",
        "\n",
        "* ### <strong>건축 기술: 건축물의  <font color = 'orange'>기술적인 측면</font>에 대해 학습한다. <font color = 'orange'>건축 재료의 특성</font>, <font color = 'orange'>건축 시스템의 구성</font>, <font color = 'orange'>건축 기술의 발전</font> 등을 다룬다.\n",
        "\n",
        "* ### <strong>건축 역사 및 이론: 과거부터 현재에 이르기까지 <font color = 'orange'>건축의 역사와 이론</font>에 대해 탐구한다. 다양한 <font color = 'orange'>건축 양식과</font> <font color = 'orange'>스타일</font>, <font color = 'orange'>건축가들의 작품</font> 등을 학습한다.\n",
        "\n",
        "* ### <strong>건축 구조: <font color = 'orange'>건축물의 구조</font>에 대해 학습한다. 다양한 <font color = 'orange'>구조 시스템</font>과 그에 따른 건축물의 <font color = 'orange'>안정성과 강도</font> 등을 분석한다\n",
        "\n",
        "* ### <strong>도시 및 지역 계획: 도시 및 지역에서의 <font color = 'orange'>건축물의 배치와 계획</font>에 대해 학습한다. 도시의 발전과 지속 가능성을 고려하여 도시 및 지역의 <font color = 'orange'>발전 방향</font>을 탐구한다."
      ],
      "metadata": {
        "id": "OtctgkT2NOCS"
      }
    }
  ]
}