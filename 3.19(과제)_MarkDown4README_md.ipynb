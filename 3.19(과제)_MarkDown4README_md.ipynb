{
  "nbformat": 4,
  "nbformat_minor": 0,
  "metadata": {
    "colab": {
      "provenance": [],
      "include_colab_link": true
    },
    "kernelspec": {
      "name": "python3",
      "display_name": "Python 3"
    },
    "language_info": {
      "name": "python"
    }
  },
  "cells": [
    {
      "cell_type": "markdown",
      "metadata": {
        "id": "view-in-github",
        "colab_type": "text"
      },
      "source": [
        "<a href=\"https://colab.research.google.com/github/KOSbk/MyMajor-/blob/main/3.19(%EA%B3%BC%EC%A0%9C)_MarkDown4README_md.ipynb\" target=\"_parent\"><img src=\"https://colab.research.google.com/assets/colab-badge.svg\" alt=\"Open In Colab\"/></a>"
      ]
    },
    {
      "cell_type": "markdown",
      "source": [
        "# 📑 **각자의 <font color = 'orange'>전공</font> 소개하기!**\n",
        "\n",
        "* ## 한남대학교 <strong> 대학 홈페이지 👉 ([구경하기](https://www.hannam.ac.kr/kor/main/index.html))\n",
        "* ## 한남대학교 <strong>건축학과 홈페이지 👉 ([구경하기](https://archi.hannam.ac.kr/))\n"
      ],
      "metadata": {
        "id": "nFyrb7heQOTL"
      }
    },
    {
      "cell_type": "markdown",
      "source": [
        "# 📐**건축학과란?**\n",
        "\n",
        " ## <strong> 👉 건축학과는 건축에 관한 <font color = 'orange'>이론</font>과 <font color = 'orange'>실무</font>를 학습하는 학과이다. 건축물의 <font color = 'orange'>설계</font>, <font color = 'orange'>구조</font>, <font color = 'orange'>기술</font>, <font color = 'orange'>역사</font>, <font color = 'orange'>이론</font>, <font color = 'orange'>환경</font> 등 다양한 측면을 공부하고 이론적인 내용 뿐만 아니라 <font color = 'orange'>실제 건축 현장</font>에서의 경험과 실무 능력을 함양하는 데 중점을 둔다.\n",
        "\n",
        "\n",
        "# 📝**주요 과목**\n",
        "\n",
        "* ### <strong>건축 설계: 건축물을 디자인하고 계획하는 과정을 학습합니다. 이 과목에서는 건축물의 기능성, 안전성, 미학적 측면 등을 고려하여 다양한 디자인을 탐구합니다.\n",
        "\n",
        "* ### <strong>건축 기술: 건축물의 기술적인 측면에 대해 학습합니다. 건축 재료의 특성, 건축 시스템의 구성, 건축 기술의 발전 등을 다룹니다.\n",
        "\n",
        "* ### <strong>건축 역사 및 이론: 과거부터 현재에 이르기까지 건축의 역사와 이론에 대해 탐구합니다. 다양한 건축 양식과 스타일, 건축가들의 작품 등을 학습합니다.\n",
        "\n",
        "* ### <strong>건축 구조: 건축물의 구조에 대해 학습합니다. 다양한 구조 시스템과 그에 따른 건축물의 안정성과 강도 등을 분석합니다.\n",
        "\n",
        "* ### <strong>도시 및 지역 계획: 도시 및 지역에서의 건축물의 배치와 계획에 대해 학습합니다. 도시의 발전과 지속 가능성을 고려하여 도시 및 지역의 발전 방향을 탐구합니다.\n",
        "\n",
        "\n",
        "# 🐹🍦 **Python Language**\n",
        "\n",
        "## **Learning Python** using **Colab** ([Visit Colab homepage](https://colab.research.google.com/?utm_source=scs-index)) and **Github** ([Visit Github homepage](https://github.com/))\n",
        "\n",
        "### **1. Sign up github** ([Visit a tutorial on Youtube](https://www.youtube.com/watch?v=c-NikCpec7U))\n",
        "### **2. Sign up Google Colaboratory** (aka. Colab) ([Visit a tutorial on Youtube](https://www.youtube.com/watch?v=2X_EU18OeYM))\n",
        "\n",
        "### **3. Useful References**\n",
        "- Exercises 200 파이썬200제 by 장삼용. 정보문화사 2017\n",
        "- [Jump to Python](https://wikidocs.net/book/1)\n",
        "- [wikidocs for nltk](https://wikidocs.net/21667)\n",
        "\n",
        "### **4. Markdown Language**\n",
        "* [Emoji](https://gist.github.com/rxaviers/7360908)\n",
        "* [Markdown syntax](https://www.markdownguide.org/basic-syntax/)\n",
        "\n",
        "### **5. Class Materials**\n",
        "| # | Sessions | Keywords |\n",
        "|:--:|:--:|:--:|\n",
        "| 1 | Markdown Language 👪  | [syntax](https://github.com/ms624atyale/NLP_2024/blob/main/0_MarkDown4README_md.ipynb)|  "
      ],
      "metadata": {
        "id": "OtctgkT2NOCS"
      }
    }
  ]
}